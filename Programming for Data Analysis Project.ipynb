{
 "cells": [
  {
   "cell_type": "markdown",
   "metadata": {},
   "source": [
    "The basis of this project is to measure a real world phenomenon across one hundred data points with four different variables, using a synthesised data set.\n",
    "\n",
    "Recently my workplace offered all employees access to vaccination for the flu and I decided to try model my project on this concept.  My interest in this stems from my working in a healthcare setting (though not as a health care practitioner) and I'm intrigued by epidemiological data.\n",
    "\n",
    "My project idea is based on 100 staff members who avail of the vaccine and tracks - \n",
    "* Their age\n",
    "* The department they work in\n",
    "* Their gender\n",
    "* If they had the vaccine the previous year\n",
    "\n",
    "If I was to carry out this research on actual data, rather than synthesised, I would carry out a survey of vaccinated staff and collate their responses to inform the results.  \n",
    "\n",
    "The first step I took was to randomly generate a set of 100 integers to represent the 100 vaccinated staff members and another set of 100 randomly generated integers between 18 and 65 to represent the ages of these staff numbers. I then used a scatterplot to display the spread of the age variable across the vaccinated staff members. "
   ]
  },
  {
   "cell_type": "code",
   "execution_count": 9,
   "metadata": {},
   "outputs": [
    {
     "data": {
      "text/plain": [
       "Text(0,0.5,'Age')"
      ]
     },
     "execution_count": 9,
     "metadata": {},
     "output_type": "execute_result"
    },
    {
     "data": {
      "image/png": "[encoded data removed]",
      "text/plain": [
       "<Figure size 432x288 with 1 Axes>"
      ]
     },
     "metadata": {
      "needs_background": "light"
     },
     "output_type": "display_data"
    }
   ],
   "source": [
    "import pandas as pd  \n",
    "import numpy as np\n",
    "import seaborn as sns \n",
    "import matplotlib.pyplot as plt\n",
    "%matplotlib inline\n",
    " \n",
    "staff = np.random.choice(101, 100) #generates an array of 100 numbers between 1 and 100\n",
    "staff_ages = np.random.randint(18, 65, 100)#generates an array of 100 numbers between 18 and 65\n",
    "sns.scatterplot(staff,staff_ages)\n",
    "plt.xlabel(\"Staff\")\n",
    "plt.ylabel(\"Age\")"
   ]
  },
  {
   "cell_type": "markdown",
   "metadata": {},
   "source": [
    "Next I decided I neeed to randomly assign these 100 vaccinated staff members to 4 different departments. After some online research I found [this post on stackoverflow.com](https://stackoverflow.com/questions/3589214/generate-multiple-random-numbers-to-equal-a-value-in-python) that recommended using the multinomial distribution from the [numpy.random.multinomial function](https://docs.scipy.org/doc/numpy-1.15.1/reference/generated/numpy.random.multinomial.html) from NumPy's Random Sampling package. "
   ]
  },
  {
   "cell_type": "code",
   "execution_count": 16,
   "metadata": {},
   "outputs": [
    {
     "name": "stdout",
     "output_type": "stream",
     "text": [
      "       Accounts  Engineering  Administration  Facilities\n",
      "Total        19           13              17          51\n"
     ]
    }
   ],
   "source": [
    "department = ([\"Accounts\", \"Engineering\", \"Administration\", \"Facilities\"])\n",
    "#need to assign 25 variables from \"staff\" to the 4 departments and create a dataframe of these values\n",
    "df = pd.DataFrame(np.random.multinomial(100,[4/25.]*4, size=1)) #https://stackoverflow.com/questions/3589214/generate-multiple-random-numbers-to-equal-a-value-in-python\n",
    "df.columns = ([\"Accounts\", \"Engineering\", \"Administration\", \"Facilities\"])\n",
    "df.index = ([\"Total\"])\n",
    "print (df)"
   ]
  },
  {
   "cell_type": "code",
   "execution_count": 17,
   "metadata": {},
   "outputs": [
    {
     "data": {
      "text/plain": [
       "<matplotlib.axes._subplots.AxesSubplot at 0x220ac4b0cc0>"
      ]
     },
     "execution_count": 17,
     "metadata": {},
     "output_type": "execute_result"
    },
    {
     "data": {
      "image/png": "[encoded data removed]",
      "text/plain": [
       "<Figure size 432x288 with 1 Axes>"
      ]
     },
     "metadata": {
      "needs_background": "light"
     },
     "output_type": "display_data"
    }
   ],
   "source": [
    "#vaccine uptake\n",
    "sns.barplot(data=df)"
   ]
  },
  {
   "cell_type": "code",
   "execution_count": 18,
   "metadata": {},
   "outputs": [],
   "source": [
    "#staff_ages vs \n"
   ]
  },
  {
   "cell_type": "code",
   "execution_count": null,
   "metadata": {},
   "outputs": [],
   "source": []
  }
 ],
 "metadata": {
  "kernelspec": {
   "display_name": "Python 3",
   "language": "python",
   "name": "python3"
  },
  "language_info": {
   "codemirror_mode": {
    "name": "ipython",
    "version": 3
   },
   "file_extension": ".py",
   "mimetype": "text/x-python",
   "name": "python",
   "nbconvert_exporter": "python",
   "pygments_lexer": "ipython3",
   "version": "3.6.6"
  }
 },
 "nbformat": 4,
 "nbformat_minor": 2
}
