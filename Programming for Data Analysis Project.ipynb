{
 "cells": [
  {
   "cell_type": "markdown",
   "metadata": {},
   "source": [
    "Notes: 100 staff avail of the flu vaccine at their place of work. Record the department they work in, their age, their gender and whether they report contracting flu that year or not. "
   ]
  },
  {
   "cell_type": "code",
   "execution_count": null,
   "metadata": {},
   "outputs": [],
   "source": [
    "import pandas as pd  \n",
    "import numpy as np\n",
    "import seaborn as sns \n",
    "import matplotlib.pyplot as plt\n",
    " \n",
    "staff = np.random.choice(101, 100) #generates an array of 100 numbers between 1 and 100\n",
    "staff_ages = np.random.randint(18, 65, 100)#generates an array of 100 numbers between 18 and 65\n",
    "sns.scatterplot(staff, staff_ages)"
   ]
  },
  {
   "cell_type": "code",
   "execution_count": 10,
   "metadata": {},
   "outputs": [
    {
     "name": "stdout",
     "output_type": "stream",
     "text": [
      "[[16 17 17 50]]\n"
     ]
    }
   ],
   "source": [
    "department = ([\"Accounts\", \"Engineering\", \"Administration\", \"Facilities\"])\n",
    "#need to assign 25 variables from \"staff\" to the 4 departments and create a dataframe of these values\n",
    "df = np.random.multinomial(100,[4/25.]*4, size=1) #https://stackoverflow.com/questions/3589214/generate-multiple-random-numbers-to-equal-a-value-in-python\n",
    "print (df)"
   ]
  },
  {
   "cell_type": "code",
   "execution_count": null,
   "metadata": {},
   "outputs": [],
   "source": []
  },
  {
   "cell_type": "code",
   "execution_count": null,
   "metadata": {},
   "outputs": [],
   "source": []
  }
 ],
 "metadata": {
  "kernelspec": {
   "display_name": "Python 3",
   "language": "python",
   "name": "python3"
  },
  "language_info": {
   "codemirror_mode": {
    "name": "ipython",
    "version": 3
   },
   "file_extension": ".py",
   "mimetype": "text/x-python",
   "name": "python",
   "nbconvert_exporter": "python",
   "pygments_lexer": "ipython3",
   "version": "3.6.6"
  }
 },
 "nbformat": 4,
 "nbformat_minor": 2
}
